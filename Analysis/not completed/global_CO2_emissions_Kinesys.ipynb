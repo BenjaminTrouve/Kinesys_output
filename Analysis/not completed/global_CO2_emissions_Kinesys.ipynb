{
 "cells": [
  {
   "cell_type": "code",
   "execution_count": null,
   "metadata": {},
   "outputs": [],
   "source": [
    "import pandas as pd\n",
    "import matplotlib.pyplot as plt\n",
    "\n",
    "def global_co2_emissions(dict_scenario, folder_path):\n",
    "    tot_co2_res = pd.DataFrame()\n",
    "    for filename in dict_scenario.items():\n",
    "        var_Fout = pd.read_csv(folder_path + filename[1] + '/'\n",
    "                                + 'VAR_FOut_' + filename[1] + '.csv', sep = ',')\n",
    "        tot_co2 = var_Fout[var_Fout['1'] == 'TOTCO2']\n",
    "        tot_co2['total_world'] = tot_co2.groupby('3')['8'].transform('sum')\n",
    "        tot_co2_world1 = tot_co2[~tot_co2['3'].duplicated()]\n",
    "        scen_name = filename[0]\n",
    "        tot_co2_world = tot_co2_world1.rename(columns={'total_world': scen_name})\n",
    "        tot_co2_world = tot_co2_world.reset_index(drop=True)\n",
    "        tot_co2_world = tot_co2_world.set_index(tot_co2_world1['3'])\n",
    "        # print(tot_co2_world)\n",
    "        tot_co2_res = pd.concat([tot_co2_res,tot_co2_world[scen_name]/10**3], axis = 1)\n",
    "\n",
    "    tot_co2_res.head(30)\n",
    "    plt.figure(figsize=(10, 6))\n",
    "\n",
    "    # Plot Category1\n",
    "    for i, scen in enumerate(tot_co2_res.columns):\n",
    "        colors = ['skyblue','orange','green','red']\n",
    "        # plt.fill_between(tot_co2_res.index, tot_co2_res[str(scen)], color=colors[i], alpha=0.4, label= str(scen))\n",
    "        plt.plot(tot_co2_res.index, tot_co2_res[str(scen)], color=colors[::-1][i], linewidth=2,label= str(scen))\n",
    "\n",
    "    plt.xlabel('Years')\n",
    "    plt.ylabel('Gt CO2')\n",
    "    plt.title('Net CO2 Emissions')\n",
    "    plt.legend()\n",
    "\n",
    "    return plt"
   ]
  }
 ],
 "metadata": {
  "kernelspec": {
   "display_name": "base",
   "language": "python",
   "name": "python3"
  },
  "language_info": {
   "name": "python",
   "version": "3.11.5"
  }
 },
 "nbformat": 4,
 "nbformat_minor": 2
}
