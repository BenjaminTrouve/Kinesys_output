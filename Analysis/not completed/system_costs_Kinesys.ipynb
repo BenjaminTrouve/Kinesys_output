{
 "cells": [
  {
   "cell_type": "code",
   "execution_count": null,
   "metadata": {},
   "outputs": [],
   "source": [
    "import matplotlib.pyplot as plt\n",
    "import pandas as pd\n",
    "\n",
    "def system_costs(file_path_scen,file_path_ref, run_name_scen,run_name_ref, output_folder):\n",
    "    \n",
    "    sys_cost_res = pd.DataFrame()\n",
    "    dict_scenario = {file_path_ref:run_name_ref,file_path_scen:run_name_scen}\n",
    "    for filename in dict_scenario.items():\n",
    "        sys_cost = pd.read_csv(f\"{filename[0]}/{filename[1]}/ObjZ_{filename[1]}.csv\", sep = ',')\n",
    "        scen_name = filename[1]\n",
    "        sys_cost = sys_cost.rename(columns={'8': scen_name})\n",
    "        sys_cost_res = pd.concat([sys_cost_res,sys_cost[scen_name]/10**6], axis = 1)\n",
    "\n",
    "    sys_cost_res = sys_cost_res.T \n",
    "    sys_cost_res.index.name = 'Columns'\n",
    "\n",
    "    ax = sys_cost_res.plot(kind='bar', legend=False)\n",
    "    ax.set_ylim(150, 240) \n",
    " \n",
    "    plt.xlabel('')\n",
    "    plt.ylabel('$ Trillion')\n",
    "    plt.title('System costs')\n",
    "    plt.xticks(rotation=0)\n",
    "\n",
    "    for p in ax.patches:\n",
    "        height = p.get_height()\n",
    "        ax.annotate(f'{height:.2f}', \n",
    "                    xy=(p.get_x() + p.get_width() / 2, height),\n",
    "                    xytext=(0, 3), \n",
    "                    textcoords=\"offset points\",\n",
    "                    ha='center', va='bottom')\n",
    "        \n",
    "    plt.savefig(output_folder + 'system_costs.pdf', format ='pdf', bbox_inches='tight')\n"
   ]
  }
 ],
 "metadata": {
  "kernelspec": {
   "display_name": "base",
   "language": "python",
   "name": "python3"
  },
  "language_info": {
   "name": "python",
   "version": "3.11.5"
  }
 },
 "nbformat": 4,
 "nbformat_minor": 2
}
