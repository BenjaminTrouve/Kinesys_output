{
 "cells": [
  {
   "cell_type": "code",
   "execution_count": 2,
   "metadata": {},
   "outputs": [],
   "source": [
    "import pandas as pd\n",
    "import matplotlib.pyplot as plt\n",
    "import warnings\n",
    "\n",
    "\n",
    "warnings.filterwarnings(\"ignore\", category=pd.errors.SettingWithCopyWarning)\n",
    "warnings.filterwarnings(\"ignore\", category=pd.errors.DtypeWarning)\n",
    "\n",
    "def global_co2_emissions(dict_scenario, folder_path,output_folder, called = False):\n",
    "    if called == True:\n",
    "        tot_co2_res = pd.DataFrame()\n",
    "        for filename in dict_scenario.items():\n",
    "            var_Fout = pd.read_csv(folder_path + filename[1] + '/' + 'VAR_FOut_' + filename[1] + '.csv', sep = ',')\n",
    "            tot_co2 = var_Fout[var_Fout['1'] == 'TOTCO2']\n",
    "            tot_co2['total_world'] = tot_co2.groupby('3')['8'].transform('sum')\n",
    "            tot_co2_world1 = tot_co2[~tot_co2['3'].duplicated()]\n",
    "            scen_name = filename[0]\n",
    "            tot_co2_world = tot_co2_world1.rename(columns={'total_world': scen_name})\n",
    "            tot_co2_world = tot_co2_world.reset_index(drop=True)\n",
    "            tot_co2_world = tot_co2_world.set_index(tot_co2_world1['3'])\n",
    "            # print(tot_co2_world)\n",
    "            tot_co2_res = pd.concat([tot_co2_res,tot_co2_world[scen_name]/10**3], axis = 1)\n",
    "\n",
    "        tot_co2_res.head(30)\n",
    "        plt.figure(figsize=(7, 4))\n",
    "\n",
    "        # Plot Category1\n",
    "        for i, scen in enumerate(tot_co2_res.columns):\n",
    "            colors = ['skyblue','orange','green','red']\n",
    "            plt.plot(tot_co2_res.index, tot_co2_res[str(scen)], color=colors[::-1][i], linewidth=2,label= str(scen))\n",
    "\n",
    "        plt.xlabel('Years')\n",
    "        plt.ylabel('Gt CO2')\n",
    "        plt.title('Net CO2 Emissions')\n",
    "        plt.legend()\n",
    "\n",
    "        plt.savefig(output_folder + 'global_CO2.pdf'\n",
    "                    , format ='pdf'\n",
    "                    ,  bbox_inches='tight')\n",
    "\n",
    "    else:\n",
    "        pass"
   ]
  }
 ],
 "metadata": {
  "kernelspec": {
   "display_name": "base",
   "language": "python",
   "name": "python3"
  },
  "language_info": {
   "codemirror_mode": {
    "name": "ipython",
    "version": 3
   },
   "file_extension": ".py",
   "mimetype": "text/x-python",
   "name": "python",
   "nbconvert_exporter": "python",
   "pygments_lexer": "ipython3",
   "version": "3.11.5"
  }
 },
 "nbformat": 4,
 "nbformat_minor": 2
}
